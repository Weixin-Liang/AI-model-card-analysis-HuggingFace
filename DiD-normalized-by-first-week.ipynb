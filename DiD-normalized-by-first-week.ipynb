{
 "cells": [
  {
   "cell_type": "code",
   "execution_count": null,
   "metadata": {},
   "outputs": [],
   "source": [
    "import numpy as np\n",
    "import pandas as pd\n",
    "from scipy.stats import ttest_ind\n",
    "import pickle\n",
    "import seaborn as sns\n",
    "import matplotlib.pyplot as plt\n",
    "from matplotlib.ticker import FuncFormatter"
   ]
  },
  {
   "cell_type": "code",
   "execution_count": null,
   "metadata": {},
   "outputs": [],
   "source": [
    "def normalize(pre_df, post_df):\n",
    "    merged_df = pd.merge(pre_df, post_df, on='Model')\n",
    "\n",
    "    avg_cols = merged_df.iloc[:, 1:4].mean(axis=1) \n",
    "    merged_df.iloc[:, 1:] = merged_df.iloc[:, 1:].div(avg_cols, axis=0)\n",
    "\n",
    "    df = pd.melt(\n",
    "        merged_df,\n",
    "        id_vars=['Model'],\n",
    "        value_vars=merged_df.columns.to_list()[1:],\n",
    "        var_name='week',\n",
    "        value_name='Normalized Downloads'\n",
    "    )\n",
    "\n",
    "    df['week'] = pd.to_datetime(df['week'])\n",
    "\n",
    "    return df\n",
    "\n",
    "\n",
    "def two_bin(df, MERGE_DATE, on='Model'):\n",
    "    df_treatment = df[df['Treatment'] == 'Treatment']\n",
    "    df_control = df[df['Treatment'] == 'Control']\n",
    "    delta_treatment = []\n",
    "    delta_control = []\n",
    "\n",
    "    for model in df[on].unique():\n",
    "        df_model_treatment = df_treatment[df_treatment[on] == model]\n",
    "        df_model_control = df_control[df_control[on] == model]\n",
    "\n",
    "        avg_treatment_before = df_model_treatment.loc[df_model_treatment['week'] < MERGE_DATE, 'Normalized Downloads'].mean()\n",
    "        avg_treatment_after = df_model_treatment.loc[df_model_treatment['week'] >= MERGE_DATE, 'Normalized Downloads'].mean()\n",
    "        avg_control_before = df_model_control.loc[df_model_control['week'] < MERGE_DATE, 'Normalized Downloads'].mean()\n",
    "        avg_control_after = df_model_control.loc[df_model_control['week'] >= MERGE_DATE, 'Normalized Downloads'].mean()\n",
    "\n",
    "        if not np.isnan(avg_treatment_after - avg_treatment_before):\n",
    "            delta_treatment.append(avg_treatment_after - avg_treatment_before)\n",
    "        elif not np.isnan(avg_control_after - avg_control_before):\n",
    "            delta_control.append(avg_control_after - avg_control_before)\n",
    "        else:\n",
    "            print(f\"ERROR: Both change in downloads are NaN for {model}\")\n",
    "\n",
    "    t_stat, p_val = ttest_ind(delta_treatment, delta_control, equal_var=False, alternative='greater')\n",
    "\n",
    "    def create_plot():\n",
    "        treatment_df = pd.DataFrame({'delta': delta_treatment, 'group': 'Treatment'})\n",
    "        control_df = pd.DataFrame({'delta': delta_control, 'group': 'Control'})\n",
    "\n",
    "        combined_df = pd.concat([treatment_df, control_df], ignore_index=True)\n",
    "\n",
    "        plt.figure(figsize=(3, 4))\n",
    "        sns.set(style=\"whitegrid\")\n",
    "        ax = sns.boxplot(\n",
    "            x='group',\n",
    "            y='delta',\n",
    "            data=combined_df,\n",
    "            palette=['maroon', 'lightgrey'],\n",
    "            width=0.5\n",
    "        )\n",
    "\n",
    "        sns.despine(left=True)\n",
    "        plt.xticks(fontsize=12)\n",
    "        plt.yticks(fontsize=12)\n",
    "        plt.tight_layout()\n",
    "\n",
    "        ax.set_xlabel('')\n",
    "        ax.set_ylabel('Weekly Downloads Change (%)')\n",
    "        ax.yaxis.set_major_formatter(FuncFormatter(lambda x, _: '{:,.0%}'.format(x)))\n",
    "        plt.show()\n",
    "\n",
    "    create_plot()\n",
    "    \n",
    "    mean_diff = np.mean(delta_treatment) - np.mean(delta_control)\n",
    "    std_diff = np.std(delta_treatment + delta_control)\n",
    "    effect_size = mean_diff / std_diff\n",
    "\n",
    "    print(f\"Mean change in downloads for treatment group: {np.mean(delta_treatment):.4f}\")\n",
    "    print(f\"Mean change in downloads for control group: {np.mean(delta_control):.4f}\")\n",
    "    print(f\"Standard deviation of change in downloads: {std_diff:.4f}\")\n",
    "    print(f\"P-value: {p_val:.4f}\")\n",
    "    print(f\"Effect size: {effect_size:.4f}\")\n",
    "\n",
    "    return"
   ]
  },
  {
   "cell_type": "code",
   "execution_count": null,
   "metadata": {},
   "outputs": [],
   "source": [
    "with open('batch1_data.pkl', 'rb') as f:\n",
    "    all_data_dict = pickle.load(f)\n",
    "df_treatment = normalize(all_data_dict['pre_treatment']['treatment_group'],\\\n",
    "                             all_data_dict['post_treatment']['treatment_group'])\n",
    "df_treatment['Treatment'] = 'Treatment'\n",
    "\n",
    "df_control = normalize(all_data_dict['pre_treatment']['control_group'], \\\n",
    "                           all_data_dict['post_treatment']['control_group'])\n",
    "df_control['Treatment'] = 'Control'\n",
    "df_short_term_batch_1 = pd.concat([df_treatment, df_control], ignore_index=True) \n",
    "df_short_term_batch_1['MERGE_DATE'] = all_data_dict['MERGE_DATE']"
   ]
  },
  {
   "cell_type": "code",
   "execution_count": null,
   "metadata": {},
   "outputs": [],
   "source": [
    "df_short_term_batch_1.head(10)"
   ]
  },
  {
   "cell_type": "code",
   "execution_count": null,
   "metadata": {},
   "outputs": [],
   "source": [
    "len(np.unique(df_short_term_batch_1[df_short_term_batch_1['Treatment'] == 'Treatment'].Model))"
   ]
  },
  {
   "cell_type": "code",
   "execution_count": null,
   "metadata": {},
   "outputs": [],
   "source": [
    "dir_data = '/Users/yiquntchen/Desktop/winter-2023/HF-RCT-Model-Card-Intervention-Study/analysis_YC/'\n",
    "df_short_term_batch_1.to_csv(dir_data+'df_short_term_batch_1_norm_first_week.csv')"
   ]
  },
  {
   "cell_type": "code",
   "execution_count": null,
   "metadata": {},
   "outputs": [],
   "source": [
    "with open('batch2_data.pkl', 'rb') as f:\n",
    "    all_data_dict = pickle.load(f)\n",
    "df_treatment = normalize(all_data_dict['pre_treatment']['treatment_group'],\\\n",
    "                             all_data_dict['post_treatment']['treatment_group'])\n",
    "df_treatment['Treatment'] = 'Treatment'\n",
    "\n",
    "df_control = normalize(all_data_dict['pre_treatment']['control_group'], \\\n",
    "                           all_data_dict['post_treatment']['control_group'])\n",
    "df_control['Treatment'] = 'Control'\n",
    "df_short_term_batch_2 = pd.concat([df_treatment, df_control], ignore_index=True)      \n",
    "df_short_term_batch_2['MERGE_DATE'] = all_data_dict['MERGE_DATE']\n",
    "\n",
    "df_short_term_batch_2.to_csv(dir_data+'df_short_term_batch_2_norm_first_week.csv')"
   ]
  },
  {
   "cell_type": "code",
   "execution_count": null,
   "metadata": {},
   "outputs": [],
   "source": [
    "len(np.unique(df_short_term_batch_2[df_short_term_batch_2['Treatment'] == 'Treatment'].Model))"
   ]
  },
  {
   "cell_type": "code",
   "execution_count": null,
   "metadata": {},
   "outputs": [],
   "source": []
  }
 ],
 "metadata": {
  "kernelspec": {
   "display_name": "Python 3 (ipykernel)",
   "language": "python",
   "name": "python3"
  },
  "language_info": {
   "codemirror_mode": {
    "name": "ipython",
    "version": 3
   },
   "file_extension": ".py",
   "mimetype": "text/x-python",
   "name": "python",
   "nbconvert_exporter": "python",
   "pygments_lexer": "ipython3",
   "version": "3.10.4"
  }
 },
 "nbformat": 4,
 "nbformat_minor": 2
}
