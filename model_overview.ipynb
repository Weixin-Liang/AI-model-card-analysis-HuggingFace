{
 "cells": [
  {
   "attachments": {},
   "cell_type": "markdown",
   "metadata": {},
   "source": [
    "# Model and Model Cards Overview"
   ]
  },
  {
   "cell_type": "code",
   "execution_count": 21,
   "metadata": {},
   "outputs": [],
   "source": [
    "import warnings\n",
    "warnings.filterwarnings(\"ignore\")"
   ]
  },
  {
   "cell_type": "code",
   "execution_count": 22,
   "metadata": {},
   "outputs": [],
   "source": [
    "import pickle\n",
    "import datetime\n",
    "from matplotlib import pyplot as plt\n",
    "import numpy as np\n",
    "import pandas as pd"
   ]
  },
  {
   "attachments": {},
   "cell_type": "markdown",
   "metadata": {},
   "source": [
    "## Model Information Overview"
   ]
  },
  {
   "cell_type": "code",
   "execution_count": 26,
   "metadata": {},
   "outputs": [
    {
     "data": {
      "text/html": [
       "<div>\n",
       "<style scoped>\n",
       "    .dataframe tbody tr th:only-of-type {\n",
       "        vertical-align: middle;\n",
       "    }\n",
       "\n",
       "    .dataframe tbody tr th {\n",
       "        vertical-align: top;\n",
       "    }\n",
       "\n",
       "    .dataframe thead th {\n",
       "        text-align: right;\n",
       "    }\n",
       "</style>\n",
       "<table border=\"1\" class=\"dataframe\">\n",
       "  <thead>\n",
       "    <tr style=\"text-align: right;\">\n",
       "      <th></th>\n",
       "      <th>modelId</th>\n",
       "      <th>author</th>\n",
       "      <th>creation_time</th>\n",
       "      <th>downloads</th>\n",
       "      <th>has_modelcard</th>\n",
       "      <th>task_category</th>\n",
       "      <th>task_domain</th>\n",
       "    </tr>\n",
       "  </thead>\n",
       "  <tbody>\n",
       "    <tr>\n",
       "      <th>0</th>\n",
       "      <td>bert-base-uncased</td>\n",
       "      <td>huggingface</td>\n",
       "      <td>2018-11-14 23:35:08+00:00</td>\n",
       "      <td>31924518.0</td>\n",
       "      <td>True</td>\n",
       "      <td>fill-mask</td>\n",
       "      <td>nlp</td>\n",
       "    </tr>\n",
       "    <tr>\n",
       "      <th>1</th>\n",
       "      <td>xlm-roberta-base</td>\n",
       "      <td>huggingface</td>\n",
       "      <td>2019-12-18 22:37:14+00:00</td>\n",
       "      <td>26796072.0</td>\n",
       "      <td>True</td>\n",
       "      <td>fill-mask</td>\n",
       "      <td>nlp</td>\n",
       "    </tr>\n",
       "    <tr>\n",
       "      <th>2</th>\n",
       "      <td>Jean-Baptiste/camembert-ner</td>\n",
       "      <td>Jean-Baptiste</td>\n",
       "      <td>2021-03-12 14:22:04+00:00</td>\n",
       "      <td>16720459.0</td>\n",
       "      <td>True</td>\n",
       "      <td>token-classification</td>\n",
       "      <td>nlp</td>\n",
       "    </tr>\n",
       "    <tr>\n",
       "      <th>3</th>\n",
       "      <td>openai/clip-vit-large-patch14</td>\n",
       "      <td>openai</td>\n",
       "      <td>2022-01-26 11:08:26+00:00</td>\n",
       "      <td>12495361.0</td>\n",
       "      <td>True</td>\n",
       "      <td>zero-shot-image-classification</td>\n",
       "      <td>computer_vision</td>\n",
       "    </tr>\n",
       "    <tr>\n",
       "      <th>4</th>\n",
       "      <td>roberta-base</td>\n",
       "      <td>huggingface</td>\n",
       "      <td>2019-08-03 22:16:18+00:00</td>\n",
       "      <td>12472035.0</td>\n",
       "      <td>True</td>\n",
       "      <td>fill-mask</td>\n",
       "      <td>nlp</td>\n",
       "    </tr>\n",
       "    <tr>\n",
       "      <th>...</th>\n",
       "      <td>...</td>\n",
       "      <td>...</td>\n",
       "      <td>...</td>\n",
       "      <td>...</td>\n",
       "      <td>...</td>\n",
       "      <td>...</td>\n",
       "      <td>...</td>\n",
       "    </tr>\n",
       "    <tr>\n",
       "      <th>74965</th>\n",
       "      <td>huseinzol05/text-to-speech-tacotron-osman</td>\n",
       "      <td>huseinzol05</td>\n",
       "      <td>2022-05-03 14:08:28+00:00</td>\n",
       "      <td>0.0</td>\n",
       "      <td>False</td>\n",
       "      <td>unknown</td>\n",
       "      <td>unknown</td>\n",
       "    </tr>\n",
       "    <tr>\n",
       "      <th>74966</th>\n",
       "      <td>huseinzol05/text-to-speech-tacotron-osman-quan...</td>\n",
       "      <td>huseinzol05</td>\n",
       "      <td>2022-05-03 14:08:44+00:00</td>\n",
       "      <td>0.0</td>\n",
       "      <td>False</td>\n",
       "      <td>unknown</td>\n",
       "      <td>unknown</td>\n",
       "    </tr>\n",
       "    <tr>\n",
       "      <th>74967</th>\n",
       "      <td>dennishe97/codebert-base-v2</td>\n",
       "      <td>dennishe97</td>\n",
       "      <td>2022-05-03 14:09:52+00:00</td>\n",
       "      <td>0.0</td>\n",
       "      <td>False</td>\n",
       "      <td>feature-extraction</td>\n",
       "      <td>multimodal</td>\n",
       "    </tr>\n",
       "    <tr>\n",
       "      <th>74968</th>\n",
       "      <td>netoass/distilbert-base-uncased-finetuned-emotion</td>\n",
       "      <td>netoass</td>\n",
       "      <td>2022-05-03 14:27:42+00:00</td>\n",
       "      <td>0.0</td>\n",
       "      <td>False</td>\n",
       "      <td>unknown</td>\n",
       "      <td>unknown</td>\n",
       "    </tr>\n",
       "    <tr>\n",
       "      <th>74969</th>\n",
       "      <td>clementchadebec/my_beta_vae</td>\n",
       "      <td>clementchadebec</td>\n",
       "      <td>NaT</td>\n",
       "      <td>0.0</td>\n",
       "      <td>True</td>\n",
       "      <td>unknown</td>\n",
       "      <td>unknown</td>\n",
       "    </tr>\n",
       "  </tbody>\n",
       "</table>\n",
       "<p>74970 rows × 7 columns</p>\n",
       "</div>"
      ],
      "text/plain": [
       "                                                 modelId           author  \\\n",
       "0                                      bert-base-uncased      huggingface   \n",
       "1                                       xlm-roberta-base      huggingface   \n",
       "2                            Jean-Baptiste/camembert-ner    Jean-Baptiste   \n",
       "3                          openai/clip-vit-large-patch14           openai   \n",
       "4                                           roberta-base      huggingface   \n",
       "...                                                  ...              ...   \n",
       "74965          huseinzol05/text-to-speech-tacotron-osman      huseinzol05   \n",
       "74966  huseinzol05/text-to-speech-tacotron-osman-quan...      huseinzol05   \n",
       "74967                        dennishe97/codebert-base-v2       dennishe97   \n",
       "74968  netoass/distilbert-base-uncased-finetuned-emotion          netoass   \n",
       "74969                        clementchadebec/my_beta_vae  clementchadebec   \n",
       "\n",
       "                  creation_time   downloads  has_modelcard  \\\n",
       "0     2018-11-14 23:35:08+00:00  31924518.0           True   \n",
       "1     2019-12-18 22:37:14+00:00  26796072.0           True   \n",
       "2     2021-03-12 14:22:04+00:00  16720459.0           True   \n",
       "3     2022-01-26 11:08:26+00:00  12495361.0           True   \n",
       "4     2019-08-03 22:16:18+00:00  12472035.0           True   \n",
       "...                         ...         ...            ...   \n",
       "74965 2022-05-03 14:08:28+00:00         0.0          False   \n",
       "74966 2022-05-03 14:08:44+00:00         0.0          False   \n",
       "74967 2022-05-03 14:09:52+00:00         0.0          False   \n",
       "74968 2022-05-03 14:27:42+00:00         0.0          False   \n",
       "74969                       NaT         0.0           True   \n",
       "\n",
       "                        task_category      task_domain  \n",
       "0                           fill-mask              nlp  \n",
       "1                           fill-mask              nlp  \n",
       "2                token-classification              nlp  \n",
       "3      zero-shot-image-classification  computer_vision  \n",
       "4                           fill-mask              nlp  \n",
       "...                               ...              ...  \n",
       "74965                         unknown          unknown  \n",
       "74966                         unknown          unknown  \n",
       "74967              feature-extraction       multimodal  \n",
       "74968                         unknown          unknown  \n",
       "74969                         unknown          unknown  \n",
       "\n",
       "[74970 rows x 7 columns]"
      ]
     },
     "execution_count": 26,
     "metadata": {},
     "output_type": "execute_result"
    }
   ],
   "source": [
    "model_info = pd.read_parquet('data/model_info.parquet')\n",
    "model_info"
   ]
  },
  {
   "cell_type": "code",
   "execution_count": 27,
   "metadata": {},
   "outputs": [
    {
     "data": {
      "text/html": [
       "<div>\n",
       "<style scoped>\n",
       "    .dataframe tbody tr th:only-of-type {\n",
       "        vertical-align: middle;\n",
       "    }\n",
       "\n",
       "    .dataframe tbody tr th {\n",
       "        vertical-align: top;\n",
       "    }\n",
       "\n",
       "    .dataframe thead th {\n",
       "        text-align: right;\n",
       "    }\n",
       "</style>\n",
       "<table border=\"1\" class=\"dataframe\">\n",
       "  <thead>\n",
       "    <tr style=\"text-align: right;\">\n",
       "      <th></th>\n",
       "      <th>modelId</th>\n",
       "      <th>author</th>\n",
       "      <th>creation_time</th>\n",
       "      <th>downloads</th>\n",
       "      <th>has_modelcard</th>\n",
       "      <th>task_category</th>\n",
       "      <th>task_domain</th>\n",
       "    </tr>\n",
       "  </thead>\n",
       "  <tbody>\n",
       "    <tr>\n",
       "      <th>0</th>\n",
       "      <td>bert-base-uncased</td>\n",
       "      <td>huggingface</td>\n",
       "      <td>2018-11-14</td>\n",
       "      <td>31924518.0</td>\n",
       "      <td>True</td>\n",
       "      <td>fill-mask</td>\n",
       "      <td>nlp</td>\n",
       "    </tr>\n",
       "    <tr>\n",
       "      <th>1</th>\n",
       "      <td>xlm-roberta-base</td>\n",
       "      <td>huggingface</td>\n",
       "      <td>2019-12-18</td>\n",
       "      <td>26796072.0</td>\n",
       "      <td>True</td>\n",
       "      <td>fill-mask</td>\n",
       "      <td>nlp</td>\n",
       "    </tr>\n",
       "    <tr>\n",
       "      <th>2</th>\n",
       "      <td>Jean-Baptiste/camembert-ner</td>\n",
       "      <td>Jean-Baptiste</td>\n",
       "      <td>2021-03-12</td>\n",
       "      <td>16720459.0</td>\n",
       "      <td>True</td>\n",
       "      <td>token-classification</td>\n",
       "      <td>nlp</td>\n",
       "    </tr>\n",
       "    <tr>\n",
       "      <th>3</th>\n",
       "      <td>openai/clip-vit-large-patch14</td>\n",
       "      <td>openai</td>\n",
       "      <td>2022-01-26</td>\n",
       "      <td>12495361.0</td>\n",
       "      <td>True</td>\n",
       "      <td>zero-shot-image-classification</td>\n",
       "      <td>computer_vision</td>\n",
       "    </tr>\n",
       "    <tr>\n",
       "      <th>4</th>\n",
       "      <td>roberta-base</td>\n",
       "      <td>huggingface</td>\n",
       "      <td>2019-08-03</td>\n",
       "      <td>12472035.0</td>\n",
       "      <td>True</td>\n",
       "      <td>fill-mask</td>\n",
       "      <td>nlp</td>\n",
       "    </tr>\n",
       "    <tr>\n",
       "      <th>...</th>\n",
       "      <td>...</td>\n",
       "      <td>...</td>\n",
       "      <td>...</td>\n",
       "      <td>...</td>\n",
       "      <td>...</td>\n",
       "      <td>...</td>\n",
       "      <td>...</td>\n",
       "    </tr>\n",
       "    <tr>\n",
       "      <th>74964</th>\n",
       "      <td>egorulz/distilbert-base-uncased-finetuned-cola</td>\n",
       "      <td>egorulz</td>\n",
       "      <td>2022-05-03</td>\n",
       "      <td>0.0</td>\n",
       "      <td>False</td>\n",
       "      <td>unknown</td>\n",
       "      <td>unknown</td>\n",
       "    </tr>\n",
       "    <tr>\n",
       "      <th>74965</th>\n",
       "      <td>huseinzol05/text-to-speech-tacotron-osman</td>\n",
       "      <td>huseinzol05</td>\n",
       "      <td>2022-05-03</td>\n",
       "      <td>0.0</td>\n",
       "      <td>False</td>\n",
       "      <td>unknown</td>\n",
       "      <td>unknown</td>\n",
       "    </tr>\n",
       "    <tr>\n",
       "      <th>74966</th>\n",
       "      <td>huseinzol05/text-to-speech-tacotron-osman-quan...</td>\n",
       "      <td>huseinzol05</td>\n",
       "      <td>2022-05-03</td>\n",
       "      <td>0.0</td>\n",
       "      <td>False</td>\n",
       "      <td>unknown</td>\n",
       "      <td>unknown</td>\n",
       "    </tr>\n",
       "    <tr>\n",
       "      <th>74967</th>\n",
       "      <td>dennishe97/codebert-base-v2</td>\n",
       "      <td>dennishe97</td>\n",
       "      <td>2022-05-03</td>\n",
       "      <td>0.0</td>\n",
       "      <td>False</td>\n",
       "      <td>feature-extraction</td>\n",
       "      <td>multimodal</td>\n",
       "    </tr>\n",
       "    <tr>\n",
       "      <th>74968</th>\n",
       "      <td>netoass/distilbert-base-uncased-finetuned-emotion</td>\n",
       "      <td>netoass</td>\n",
       "      <td>2022-05-03</td>\n",
       "      <td>0.0</td>\n",
       "      <td>False</td>\n",
       "      <td>unknown</td>\n",
       "      <td>unknown</td>\n",
       "    </tr>\n",
       "  </tbody>\n",
       "</table>\n",
       "<p>74797 rows × 7 columns</p>\n",
       "</div>"
      ],
      "text/plain": [
       "                                                 modelId         author  \\\n",
       "0                                      bert-base-uncased    huggingface   \n",
       "1                                       xlm-roberta-base    huggingface   \n",
       "2                            Jean-Baptiste/camembert-ner  Jean-Baptiste   \n",
       "3                          openai/clip-vit-large-patch14         openai   \n",
       "4                                           roberta-base    huggingface   \n",
       "...                                                  ...            ...   \n",
       "74964     egorulz/distilbert-base-uncased-finetuned-cola        egorulz   \n",
       "74965          huseinzol05/text-to-speech-tacotron-osman    huseinzol05   \n",
       "74966  huseinzol05/text-to-speech-tacotron-osman-quan...    huseinzol05   \n",
       "74967                        dennishe97/codebert-base-v2     dennishe97   \n",
       "74968  netoass/distilbert-base-uncased-finetuned-emotion        netoass   \n",
       "\n",
       "      creation_time   downloads  has_modelcard  \\\n",
       "0        2018-11-14  31924518.0           True   \n",
       "1        2019-12-18  26796072.0           True   \n",
       "2        2021-03-12  16720459.0           True   \n",
       "3        2022-01-26  12495361.0           True   \n",
       "4        2019-08-03  12472035.0           True   \n",
       "...             ...         ...            ...   \n",
       "74964    2022-05-03         0.0          False   \n",
       "74965    2022-05-03         0.0          False   \n",
       "74966    2022-05-03         0.0          False   \n",
       "74967    2022-05-03         0.0          False   \n",
       "74968    2022-05-03         0.0          False   \n",
       "\n",
       "                        task_category      task_domain  \n",
       "0                           fill-mask              nlp  \n",
       "1                           fill-mask              nlp  \n",
       "2                token-classification              nlp  \n",
       "3      zero-shot-image-classification  computer_vision  \n",
       "4                           fill-mask              nlp  \n",
       "...                               ...              ...  \n",
       "74964                         unknown          unknown  \n",
       "74965                         unknown          unknown  \n",
       "74966                         unknown          unknown  \n",
       "74967              feature-extraction       multimodal  \n",
       "74968                         unknown          unknown  \n",
       "\n",
       "[74797 rows x 7 columns]"
      ]
     },
     "execution_count": 27,
     "metadata": {},
     "output_type": "execute_result"
    }
   ],
   "source": [
    "# drop nan\n",
    "model_info = model_info.dropna(subset=['creation_time'])\n",
    "model_info['creation_time'] = model_info['creation_time'].apply(lambda x: x.date())\n",
    "model_info"
   ]
  },
  {
   "attachments": {},
   "cell_type": "markdown",
   "metadata": {},
   "source": [
    "## Model Card Information Overview"
   ]
  },
  {
   "cell_type": "code",
   "execution_count": 29,
   "metadata": {},
   "outputs": [
    {
     "data": {
      "text/html": [
       "<div>\n",
       "<style scoped>\n",
       "    .dataframe tbody tr th:only-of-type {\n",
       "        vertical-align: middle;\n",
       "    }\n",
       "\n",
       "    .dataframe tbody tr th {\n",
       "        vertical-align: top;\n",
       "    }\n",
       "\n",
       "    .dataframe thead th {\n",
       "        text-align: right;\n",
       "    }\n",
       "</style>\n",
       "<table border=\"1\" class=\"dataframe\">\n",
       "  <thead>\n",
       "    <tr style=\"text-align: right;\">\n",
       "      <th></th>\n",
       "      <th>modelId</th>\n",
       "      <th>author</th>\n",
       "      <th>creation_time</th>\n",
       "      <th>downloads</th>\n",
       "      <th>model_card</th>\n",
       "      <th>word_cnt</th>\n",
       "      <th>task_category</th>\n",
       "      <th>task_domain</th>\n",
       "    </tr>\n",
       "  </thead>\n",
       "  <tbody>\n",
       "    <tr>\n",
       "      <th>0</th>\n",
       "      <td>bert-base-uncased</td>\n",
       "      <td>huggingface</td>\n",
       "      <td>2018-11-14 23:35:08+00:00</td>\n",
       "      <td>31924518</td>\n",
       "      <td>\\n# BERT base model (uncased)\\n\\nPretrained mo...</td>\n",
       "      <td>1119.0</td>\n",
       "      <td>fill-mask</td>\n",
       "      <td>nlp</td>\n",
       "    </tr>\n",
       "    <tr>\n",
       "      <th>1</th>\n",
       "      <td>xlm-roberta-base</td>\n",
       "      <td>huggingface</td>\n",
       "      <td>2019-12-18 22:37:14+00:00</td>\n",
       "      <td>26796072</td>\n",
       "      <td>\\n# XLM-RoBERTa (base-sized model) \\n\\nXLM-RoB...</td>\n",
       "      <td>584.0</td>\n",
       "      <td>fill-mask</td>\n",
       "      <td>nlp</td>\n",
       "    </tr>\n",
       "    <tr>\n",
       "      <th>2</th>\n",
       "      <td>Jean-Baptiste/camembert-ner</td>\n",
       "      <td>Jean-Baptiste</td>\n",
       "      <td>2021-03-12 14:22:04+00:00</td>\n",
       "      <td>16720459</td>\n",
       "      <td>\\n# camembert-ner: model fine-tuned from camem...</td>\n",
       "      <td>288.0</td>\n",
       "      <td>token-classification</td>\n",
       "      <td>nlp</td>\n",
       "    </tr>\n",
       "    <tr>\n",
       "      <th>3</th>\n",
       "      <td>openai/clip-vit-large-patch14</td>\n",
       "      <td>openai</td>\n",
       "      <td>2022-01-26 11:08:26+00:00</td>\n",
       "      <td>12495361</td>\n",
       "      <td>\\n# Model Card: CLIP\\n\\nDisclaimer: The model ...</td>\n",
       "      <td>1069.0</td>\n",
       "      <td>zero-shot-image-classification</td>\n",
       "      <td>computer_vision</td>\n",
       "    </tr>\n",
       "    <tr>\n",
       "      <th>4</th>\n",
       "      <td>roberta-base</td>\n",
       "      <td>huggingface</td>\n",
       "      <td>2019-08-03 22:16:18+00:00</td>\n",
       "      <td>12472035</td>\n",
       "      <td>\\n# RoBERTa base model\\n\\nPretrained model on ...</td>\n",
       "      <td>1063.0</td>\n",
       "      <td>fill-mask</td>\n",
       "      <td>nlp</td>\n",
       "    </tr>\n",
       "    <tr>\n",
       "      <th>...</th>\n",
       "      <td>...</td>\n",
       "      <td>...</td>\n",
       "      <td>...</td>\n",
       "      <td>...</td>\n",
       "      <td>...</td>\n",
       "      <td>...</td>\n",
       "      <td>...</td>\n",
       "      <td>...</td>\n",
       "    </tr>\n",
       "    <tr>\n",
       "      <th>32106</th>\n",
       "      <td>skops-ci/test-4ac6e53e-616d-41a1-9e68-4c58109d...</td>\n",
       "      <td>skops-ci</td>\n",
       "      <td>2022-09-26 16:16:06+00:00</td>\n",
       "      <td>0</td>\n",
       "      <td>\\n# Model description\\n\\n[More Information Nee...</td>\n",
       "      <td>102.0</td>\n",
       "      <td>tabular-regression</td>\n",
       "      <td>tabular</td>\n",
       "    </tr>\n",
       "    <tr>\n",
       "      <th>32107</th>\n",
       "      <td>skops-ci/test-f84870ba-aaae-4fbf-ad64-fd7e536a...</td>\n",
       "      <td>skops-ci</td>\n",
       "      <td>2022-09-26 16:16:03+00:00</td>\n",
       "      <td>0</td>\n",
       "      <td>\\n# Model description\\n\\n[More Information Nee...</td>\n",
       "      <td>102.0</td>\n",
       "      <td>tabular-regression</td>\n",
       "      <td>tabular</td>\n",
       "    </tr>\n",
       "    <tr>\n",
       "      <th>32108</th>\n",
       "      <td>skops-ci/test-192b88bc-8412-43b6-965a-7c05c4ab...</td>\n",
       "      <td>skops-ci</td>\n",
       "      <td>2022-09-26 16:16:00+00:00</td>\n",
       "      <td>0</td>\n",
       "      <td>\\n# Model description\\n\\n[More Information Nee...</td>\n",
       "      <td>115.0</td>\n",
       "      <td>tabular-classification</td>\n",
       "      <td>tabular</td>\n",
       "    </tr>\n",
       "    <tr>\n",
       "      <th>32109</th>\n",
       "      <td>skops-ci/test-28b17e1a-1c77-47a1-a577-62c40774...</td>\n",
       "      <td>skops-ci</td>\n",
       "      <td>2022-09-26 16:13:38+00:00</td>\n",
       "      <td>0</td>\n",
       "      <td>\\n# Model description\\n\\n[More Information Nee...</td>\n",
       "      <td>114.0</td>\n",
       "      <td>tabular-classification</td>\n",
       "      <td>tabular</td>\n",
       "    </tr>\n",
       "    <tr>\n",
       "      <th>32110</th>\n",
       "      <td>sd-concepts-library/80s-anime-ai-being</td>\n",
       "      <td>sd-concepts-library</td>\n",
       "      <td>2022-09-30 05:08:44+00:00</td>\n",
       "      <td>0</td>\n",
       "      <td>### 80s Anime AI Being on Stable Diffusion\\nTh...</td>\n",
       "      <td>52.0</td>\n",
       "      <td>unknown</td>\n",
       "      <td>unknown</td>\n",
       "    </tr>\n",
       "  </tbody>\n",
       "</table>\n",
       "<p>32111 rows × 8 columns</p>\n",
       "</div>"
      ],
      "text/plain": [
       "                                                 modelId               author  \\\n",
       "0                                      bert-base-uncased          huggingface   \n",
       "1                                       xlm-roberta-base          huggingface   \n",
       "2                            Jean-Baptiste/camembert-ner        Jean-Baptiste   \n",
       "3                          openai/clip-vit-large-patch14               openai   \n",
       "4                                           roberta-base          huggingface   \n",
       "...                                                  ...                  ...   \n",
       "32106  skops-ci/test-4ac6e53e-616d-41a1-9e68-4c58109d...             skops-ci   \n",
       "32107  skops-ci/test-f84870ba-aaae-4fbf-ad64-fd7e536a...             skops-ci   \n",
       "32108  skops-ci/test-192b88bc-8412-43b6-965a-7c05c4ab...             skops-ci   \n",
       "32109  skops-ci/test-28b17e1a-1c77-47a1-a577-62c40774...             skops-ci   \n",
       "32110             sd-concepts-library/80s-anime-ai-being  sd-concepts-library   \n",
       "\n",
       "                  creation_time  downloads  \\\n",
       "0     2018-11-14 23:35:08+00:00   31924518   \n",
       "1     2019-12-18 22:37:14+00:00   26796072   \n",
       "2     2021-03-12 14:22:04+00:00   16720459   \n",
       "3     2022-01-26 11:08:26+00:00   12495361   \n",
       "4     2019-08-03 22:16:18+00:00   12472035   \n",
       "...                         ...        ...   \n",
       "32106 2022-09-26 16:16:06+00:00          0   \n",
       "32107 2022-09-26 16:16:03+00:00          0   \n",
       "32108 2022-09-26 16:16:00+00:00          0   \n",
       "32109 2022-09-26 16:13:38+00:00          0   \n",
       "32110 2022-09-30 05:08:44+00:00          0   \n",
       "\n",
       "                                              model_card  word_cnt  \\\n",
       "0      \\n# BERT base model (uncased)\\n\\nPretrained mo...    1119.0   \n",
       "1      \\n# XLM-RoBERTa (base-sized model) \\n\\nXLM-RoB...     584.0   \n",
       "2      \\n# camembert-ner: model fine-tuned from camem...     288.0   \n",
       "3      \\n# Model Card: CLIP\\n\\nDisclaimer: The model ...    1069.0   \n",
       "4      \\n# RoBERTa base model\\n\\nPretrained model on ...    1063.0   \n",
       "...                                                  ...       ...   \n",
       "32106  \\n# Model description\\n\\n[More Information Nee...     102.0   \n",
       "32107  \\n# Model description\\n\\n[More Information Nee...     102.0   \n",
       "32108  \\n# Model description\\n\\n[More Information Nee...     115.0   \n",
       "32109  \\n# Model description\\n\\n[More Information Nee...     114.0   \n",
       "32110  ### 80s Anime AI Being on Stable Diffusion\\nTh...      52.0   \n",
       "\n",
       "                        task_category      task_domain  \n",
       "0                           fill-mask              nlp  \n",
       "1                           fill-mask              nlp  \n",
       "2                token-classification              nlp  \n",
       "3      zero-shot-image-classification  computer_vision  \n",
       "4                           fill-mask              nlp  \n",
       "...                               ...              ...  \n",
       "32106              tabular-regression          tabular  \n",
       "32107              tabular-regression          tabular  \n",
       "32108          tabular-classification          tabular  \n",
       "32109          tabular-classification          tabular  \n",
       "32110                         unknown          unknown  \n",
       "\n",
       "[32111 rows x 8 columns]"
      ]
     },
     "execution_count": 29,
     "metadata": {},
     "output_type": "execute_result"
    }
   ],
   "source": [
    "modelcard_info = pd.read_parquet('data/modelcard_info.parquet')\n",
    "modelcard_info"
   ]
  },
  {
   "attachments": {},
   "cell_type": "markdown",
   "metadata": {},
   "source": [
    "## Model Cards Adoption and Downloads Traffic"
   ]
  },
  {
   "cell_type": "code",
   "execution_count": 30,
   "metadata": {},
   "outputs": [
    {
     "name": "stdout",
     "output_type": "stream",
     "text": [
      "Number of Models: 74797\n",
      "Number of Models with Model Cards: 31938\n",
      "Percentage of Models with Model Cards:42.70%\n"
     ]
    }
   ],
   "source": [
    "print('Number of Models:', len(model_info))\n",
    "has_card = model_info[model_info['has_modelcard'] == True]\n",
    "print('Number of Models with Model Cards:', len(has_card))\n",
    "print('Percentage of Models with Model Cards:{:.2f}%'.format(len(has_card)/len(model_info)*100))"
   ]
  },
  {
   "cell_type": "code",
   "execution_count": 31,
   "metadata": {},
   "outputs": [
    {
     "name": "stdout",
     "output_type": "stream",
     "text": [
      "Total Downloads: 285548546.0\n",
      "Total Downloads of Models with Model Cards: 258363746.0\n",
      "Percentage of Downloads of Models with Model Cards:90.48%\n"
     ]
    }
   ],
   "source": [
    "total_downloads = model_info['downloads'].sum()\n",
    "print('Total Downloads:', total_downloads)\n",
    "total_downloads_has_card = has_card['downloads'].sum()\n",
    "print('Total Downloads of Models with Model Cards:', total_downloads_has_card)\n",
    "print('Percentage of Downloads of Models with Model Cards:{:.2f}%'.format(total_downloads_has_card/total_downloads*100))"
   ]
  },
  {
   "attachments": {},
   "cell_type": "markdown",
   "metadata": {},
   "source": [
    "## Model Number Growth"
   ]
  },
  {
   "cell_type": "code",
   "execution_count": 32,
   "metadata": {},
   "outputs": [
    {
     "name": "stdout",
     "output_type": "stream",
     "text": [
      "min_time 2018-11-14\n",
      "max_time 2022-09-30\n"
     ]
    }
   ],
   "source": [
    "min_time = min(model_info['creation_time'])\n",
    "print('min_time', min_time)\n",
    "max_time = max(model_info['creation_time'])\n",
    "print('max_time', max_time)"
   ]
  },
  {
   "cell_type": "code",
   "execution_count": 33,
   "metadata": {},
   "outputs": [
    {
     "data": {
      "text/html": [
       "<div>\n",
       "<style scoped>\n",
       "    .dataframe tbody tr th:only-of-type {\n",
       "        vertical-align: middle;\n",
       "    }\n",
       "\n",
       "    .dataframe tbody tr th {\n",
       "        vertical-align: top;\n",
       "    }\n",
       "\n",
       "    .dataframe thead th {\n",
       "        text-align: right;\n",
       "    }\n",
       "</style>\n",
       "<table border=\"1\" class=\"dataframe\">\n",
       "  <thead>\n",
       "    <tr style=\"text-align: right;\">\n",
       "      <th></th>\n",
       "      <th>modelId</th>\n",
       "      <th>author</th>\n",
       "      <th>creation_time</th>\n",
       "      <th>downloads</th>\n",
       "      <th>has_modelcard</th>\n",
       "      <th>task_category</th>\n",
       "      <th>task_domain</th>\n",
       "    </tr>\n",
       "  </thead>\n",
       "  <tbody>\n",
       "    <tr>\n",
       "      <th>0</th>\n",
       "      <td>bert-base-uncased</td>\n",
       "      <td>huggingface</td>\n",
       "      <td>2018-11-14</td>\n",
       "      <td>31924518.0</td>\n",
       "      <td>True</td>\n",
       "      <td>fill-mask</td>\n",
       "      <td>nlp</td>\n",
       "    </tr>\n",
       "    <tr>\n",
       "      <th>40</th>\n",
       "      <td>bert-large-uncased</td>\n",
       "      <td>huggingface</td>\n",
       "      <td>2018-11-14</td>\n",
       "      <td>1027405.0</td>\n",
       "      <td>True</td>\n",
       "      <td>fill-mask</td>\n",
       "      <td>nlp</td>\n",
       "    </tr>\n",
       "    <tr>\n",
       "      <th>11</th>\n",
       "      <td>bert-base-chinese</td>\n",
       "      <td>huggingface</td>\n",
       "      <td>2018-11-14</td>\n",
       "      <td>4094246.0</td>\n",
       "      <td>True</td>\n",
       "      <td>fill-mask</td>\n",
       "      <td>nlp</td>\n",
       "    </tr>\n",
       "    <tr>\n",
       "      <th>8</th>\n",
       "      <td>bert-base-cased</td>\n",
       "      <td>huggingface</td>\n",
       "      <td>2018-11-14</td>\n",
       "      <td>6643939.0</td>\n",
       "      <td>True</td>\n",
       "      <td>fill-mask</td>\n",
       "      <td>nlp</td>\n",
       "    </tr>\n",
       "    <tr>\n",
       "      <th>22</th>\n",
       "      <td>bert-base-multilingual-cased</td>\n",
       "      <td>huggingface</td>\n",
       "      <td>2018-11-30</td>\n",
       "      <td>1858945.0</td>\n",
       "      <td>True</td>\n",
       "      <td>fill-mask</td>\n",
       "      <td>nlp</td>\n",
       "    </tr>\n",
       "    <tr>\n",
       "      <th>...</th>\n",
       "      <td>...</td>\n",
       "      <td>...</td>\n",
       "      <td>...</td>\n",
       "      <td>...</td>\n",
       "      <td>...</td>\n",
       "      <td>...</td>\n",
       "      <td>...</td>\n",
       "    </tr>\n",
       "    <tr>\n",
       "      <th>31321</th>\n",
       "      <td>m3/m3-experiment-roberta-base-rct-sample-word-...</td>\n",
       "      <td>m3</td>\n",
       "      <td>2022-09-30</td>\n",
       "      <td>2.0</td>\n",
       "      <td>False</td>\n",
       "      <td>text-classification</td>\n",
       "      <td>nlp</td>\n",
       "    </tr>\n",
       "    <tr>\n",
       "      <th>27038</th>\n",
       "      <td>henryjiang/distilbert-base-uncased-finetuned-e...</td>\n",
       "      <td>henryjiang</td>\n",
       "      <td>2022-09-30</td>\n",
       "      <td>4.0</td>\n",
       "      <td>True</td>\n",
       "      <td>text-classification</td>\n",
       "      <td>nlp</td>\n",
       "    </tr>\n",
       "    <tr>\n",
       "      <th>44347</th>\n",
       "      <td>dhruvs00/test</td>\n",
       "      <td>dhruvs00</td>\n",
       "      <td>2022-09-30</td>\n",
       "      <td>0.0</td>\n",
       "      <td>False</td>\n",
       "      <td>unknown</td>\n",
       "      <td>unknown</td>\n",
       "    </tr>\n",
       "    <tr>\n",
       "      <th>34780</th>\n",
       "      <td>bigdino/bart-large-finetuned-cnn-dailymail</td>\n",
       "      <td>bigdino</td>\n",
       "      <td>2022-09-30</td>\n",
       "      <td>2.0</td>\n",
       "      <td>True</td>\n",
       "      <td>text2text-generation</td>\n",
       "      <td>nlp</td>\n",
       "    </tr>\n",
       "    <tr>\n",
       "      <th>24151</th>\n",
       "      <td>HJOK/free-bart-v5</td>\n",
       "      <td>HJOK</td>\n",
       "      <td>2022-09-30</td>\n",
       "      <td>6.0</td>\n",
       "      <td>False</td>\n",
       "      <td>text2text-generation</td>\n",
       "      <td>nlp</td>\n",
       "    </tr>\n",
       "  </tbody>\n",
       "</table>\n",
       "<p>74797 rows × 7 columns</p>\n",
       "</div>"
      ],
      "text/plain": [
       "                                                 modelId       author  \\\n",
       "0                                      bert-base-uncased  huggingface   \n",
       "40                                    bert-large-uncased  huggingface   \n",
       "11                                     bert-base-chinese  huggingface   \n",
       "8                                        bert-base-cased  huggingface   \n",
       "22                          bert-base-multilingual-cased  huggingface   \n",
       "...                                                  ...          ...   \n",
       "31321  m3/m3-experiment-roberta-base-rct-sample-word-...           m3   \n",
       "27038  henryjiang/distilbert-base-uncased-finetuned-e...   henryjiang   \n",
       "44347                                      dhruvs00/test     dhruvs00   \n",
       "34780         bigdino/bart-large-finetuned-cnn-dailymail      bigdino   \n",
       "24151                                  HJOK/free-bart-v5         HJOK   \n",
       "\n",
       "      creation_time   downloads  has_modelcard         task_category  \\\n",
       "0        2018-11-14  31924518.0           True             fill-mask   \n",
       "40       2018-11-14   1027405.0           True             fill-mask   \n",
       "11       2018-11-14   4094246.0           True             fill-mask   \n",
       "8        2018-11-14   6643939.0           True             fill-mask   \n",
       "22       2018-11-30   1858945.0           True             fill-mask   \n",
       "...             ...         ...            ...                   ...   \n",
       "31321    2022-09-30         2.0          False   text-classification   \n",
       "27038    2022-09-30         4.0           True   text-classification   \n",
       "44347    2022-09-30         0.0          False               unknown   \n",
       "34780    2022-09-30         2.0           True  text2text-generation   \n",
       "24151    2022-09-30         6.0          False  text2text-generation   \n",
       "\n",
       "      task_domain  \n",
       "0             nlp  \n",
       "40            nlp  \n",
       "11            nlp  \n",
       "8             nlp  \n",
       "22            nlp  \n",
       "...           ...  \n",
       "31321         nlp  \n",
       "27038         nlp  \n",
       "44347     unknown  \n",
       "34780         nlp  \n",
       "24151         nlp  \n",
       "\n",
       "[74797 rows x 7 columns]"
      ]
     },
     "execution_count": 33,
     "metadata": {},
     "output_type": "execute_result"
    }
   ],
   "source": [
    "model_info = model_info.sort_values(by=['creation_time'])\n",
    "model_info"
   ]
  },
  {
   "cell_type": "code",
   "execution_count": 34,
   "metadata": {},
   "outputs": [
    {
     "name": "stdout",
     "output_type": "stream",
     "text": [
      "2018-11-14 2022-09-30\n"
     ]
    }
   ],
   "source": [
    "from dateutil.relativedelta import relativedelta\n",
    "\n",
    "time_range = []\n",
    "date_list = model_info['creation_time']\n",
    "min_time = min(date_list)\n",
    "max_time = max(date_list)\n",
    "print(min_time, max_time)\n",
    "time_delta = relativedelta(days=7)\n",
    "start_time = datetime.datetime(min_time.year, min_time.month, 1).date()\n",
    "end_time = (datetime.datetime(max_time.year, max_time.month+1, 1).date())\n",
    "time_range.append(start_time)\n",
    "\n",
    "while True:\n",
    "    start_time += time_delta\n",
    "    time_range.append(start_time)\n",
    "    if start_time > end_time:\n",
    "        break"
   ]
  },
  {
   "cell_type": "code",
   "execution_count": 35,
   "metadata": {},
   "outputs": [],
   "source": [
    "time_range_str = [i.strftime(\"%Y-%m-%d\") for i in time_range]\n",
    "model70k_number = []\n",
    "modelcard_number = []\n",
    "for time in time_range:\n",
    "    model70k_number.append(len(model_info[model_info['creation_time'] < time]))\n",
    "    modelcard_number.append(len(model_info[(model_info['creation_time'] < time) & (model_info['has_modelcard']==True)]))"
   ]
  },
  {
   "cell_type": "code",
   "execution_count": 36,
   "metadata": {},
   "outputs": [
    {
     "data": {
      "text/html": [
       "<div>\n",
       "<style scoped>\n",
       "    .dataframe tbody tr th:only-of-type {\n",
       "        vertical-align: middle;\n",
       "    }\n",
       "\n",
       "    .dataframe tbody tr th {\n",
       "        vertical-align: top;\n",
       "    }\n",
       "\n",
       "    .dataframe thead th {\n",
       "        text-align: right;\n",
       "    }\n",
       "</style>\n",
       "<table border=\"1\" class=\"dataframe\">\n",
       "  <thead>\n",
       "    <tr style=\"text-align: right;\">\n",
       "      <th></th>\n",
       "      <th>model_time</th>\n",
       "      <th>model_number</th>\n",
       "      <th>model_type</th>\n",
       "    </tr>\n",
       "  </thead>\n",
       "  <tbody>\n",
       "    <tr>\n",
       "      <th>0</th>\n",
       "      <td>2018-11-01</td>\n",
       "      <td>0</td>\n",
       "      <td>all models</td>\n",
       "    </tr>\n",
       "    <tr>\n",
       "      <th>1</th>\n",
       "      <td>2018-11-08</td>\n",
       "      <td>0</td>\n",
       "      <td>all models</td>\n",
       "    </tr>\n",
       "    <tr>\n",
       "      <th>2</th>\n",
       "      <td>2018-11-15</td>\n",
       "      <td>4</td>\n",
       "      <td>all models</td>\n",
       "    </tr>\n",
       "    <tr>\n",
       "      <th>3</th>\n",
       "      <td>2018-11-22</td>\n",
       "      <td>4</td>\n",
       "      <td>all models</td>\n",
       "    </tr>\n",
       "    <tr>\n",
       "      <th>4</th>\n",
       "      <td>2018-11-29</td>\n",
       "      <td>4</td>\n",
       "      <td>all models</td>\n",
       "    </tr>\n",
       "    <tr>\n",
       "      <th>...</th>\n",
       "      <td>...</td>\n",
       "      <td>...</td>\n",
       "      <td>...</td>\n",
       "    </tr>\n",
       "    <tr>\n",
       "      <th>201</th>\n",
       "      <td>2022-09-08</td>\n",
       "      <td>29149</td>\n",
       "      <td>models with model card</td>\n",
       "    </tr>\n",
       "    <tr>\n",
       "      <th>202</th>\n",
       "      <td>2022-09-15</td>\n",
       "      <td>29878</td>\n",
       "      <td>models with model card</td>\n",
       "    </tr>\n",
       "    <tr>\n",
       "      <th>203</th>\n",
       "      <td>2022-09-22</td>\n",
       "      <td>30638</td>\n",
       "      <td>models with model card</td>\n",
       "    </tr>\n",
       "    <tr>\n",
       "      <th>204</th>\n",
       "      <td>2022-09-29</td>\n",
       "      <td>31788</td>\n",
       "      <td>models with model card</td>\n",
       "    </tr>\n",
       "    <tr>\n",
       "      <th>205</th>\n",
       "      <td>2022-10-06</td>\n",
       "      <td>31938</td>\n",
       "      <td>models with model card</td>\n",
       "    </tr>\n",
       "  </tbody>\n",
       "</table>\n",
       "<p>412 rows × 3 columns</p>\n",
       "</div>"
      ],
      "text/plain": [
       "     model_time  model_number              model_type\n",
       "0    2018-11-01             0              all models\n",
       "1    2018-11-08             0              all models\n",
       "2    2018-11-15             4              all models\n",
       "3    2018-11-22             4              all models\n",
       "4    2018-11-29             4              all models\n",
       "..          ...           ...                     ...\n",
       "201  2022-09-08         29149  models with model card\n",
       "202  2022-09-15         29878  models with model card\n",
       "203  2022-09-22         30638  models with model card\n",
       "204  2022-09-29         31788  models with model card\n",
       "205  2022-10-06         31938  models with model card\n",
       "\n",
       "[412 rows x 3 columns]"
      ]
     },
     "execution_count": 36,
     "metadata": {},
     "output_type": "execute_result"
    }
   ],
   "source": [
    "model_number = pd.DataFrame(columns=['model_time', 'model_number', 'model_type'])\n",
    "model_number['model_time'] = time_range_str\n",
    "model_number['model_number'] = model70k_number\n",
    "model_number['model_type'] = 'all models'\n",
    "model_number_card_pd = pd.DataFrame(columns=['model_time', 'model_number', 'model_type'])\n",
    "model_number_card_pd['model_time'] = time_range_str\n",
    "model_number_card_pd['model_number'] = modelcard_number\n",
    "model_number_card_pd['model_type'] = 'models with model card'\n",
    "model_number = pd.concat([model_number, model_number_card_pd])\n",
    "model_number"
   ]
  },
  {
   "cell_type": "code",
   "execution_count": 39,
   "metadata": {},
   "outputs": [],
   "source": [
    "import plotly.graph_objs as go\n",
    "import numpy as np\n",
    "from scipy.optimize import curve_fit\n",
    "\n",
    "# Filter the data to include only 'All model repositories'\n",
    "all_models_data = model_number[model_number['model_type'] == 'all models']\n",
    "\n",
    "# Filter the data to start from 2020-04-30\n",
    "all_models_data = all_models_data[all_models_data['model_time'] >= '2020-04-30']\n",
    "\n",
    "# Exponential function\n",
    "def exponential(x, a, b):\n",
    "    return a * np.exp(b * x)\n",
    "\n",
    "# Fit the exponential curve\n",
    "x_data = np.arange(len(all_models_data))\n",
    "y_data = all_models_data['model_number']\n",
    "popt, _ = curve_fit(exponential, x_data, y_data)\n",
    "\n",
    "# Create the fitted curve data\n",
    "x_fit = np.linspace(0, max(x_data), 100)\n",
    "y_fit = exponential(x_fit, *popt)\n",
    "\n",
    "# Exponential formula\n",
    "exp_formula = f'y = {popt[0]:.2f} * exp({popt[1]:.2f} * x)'\n"
   ]
  },
  {
   "cell_type": "code",
   "execution_count": 40,
   "metadata": {},
   "outputs": [
    {
     "name": "stdout",
     "output_type": "stream",
     "text": [
      "Fitted exponential curve: [ 1584.90676772  1634.91837287  1686.5080902   1739.72571689\n",
      "  1794.62262149  1851.25179349  1909.66789445  1969.92731075\n",
      "  2032.08820807  2096.21058749  2162.35634343  2230.58932335\n",
      "  2300.97538944  2373.58248217  2448.48068586  2525.74229631\n",
      "  2605.44189065  2687.65639926  2772.46518006  2859.95009508\n",
      "  2950.19558954  3043.2887733   3139.31950496  3238.3804786\n",
      "  3340.56731327  3445.97864527  3554.71622334  3666.88500691\n",
      "  3782.5932674   3901.95269271  4025.07849505  4152.08952215\n",
      "  4283.10837196  4418.261511    4557.67939644  4701.496602\n",
      "  4849.85194788  5002.88863473  5160.75438188  5323.60156994\n",
      "  5491.58738788  5664.87398475  5843.6286262   6028.02385594\n",
      "  6218.23766227  6414.45364991  6616.8612172   6825.65573895\n",
      "  7041.03875498  7263.2181647   7492.40842777  7728.83077109\n",
      "  7972.71340238  8224.29173042  8483.80859229  8751.51448781\n",
      "  9027.66782125  9312.53515084  9606.39144603  9909.5203529\n",
      " 10222.21446797 10544.7756206  10877.51516438 11220.7542776\n",
      " 11574.82427335 11940.06691924 12316.83476735 12705.4914945\n",
      " 13106.41225331 13519.98403432 13946.6060395  14386.69006762\n",
      " 14840.66091174 15308.95676921 15792.02966468 16290.34588638\n",
      " 16804.38643624 17334.64749417 17881.64089699 18445.8946325\n",
      " 19027.9533491  19628.37888153 20247.75079318 20886.66693552\n",
      " 21545.74402518 22225.61823921 22926.94582921 23650.40375471\n",
      " 24396.69033667 25166.5259315  25960.65362641 26779.83995664\n",
      " 27624.87564542 28496.57636716 29395.78353483 30323.36511212\n",
      " 31280.21645123 32267.26115712 33285.45197906 34335.77173022\n",
      " 35419.23423637 36536.88531447 37689.80378215 38879.10249903\n",
      " 40105.92944096 41371.46880804 42676.94216772 44023.60963391\n",
      " 45412.77108333 46845.76741019 48323.9818205  49848.84116724\n",
      " 51421.81732761 53044.4286238  54718.24128849 56444.87097674\n",
      " 58225.98432548 60063.3005622  61958.5931645  63913.69157193\n",
      " 65930.48295183 68010.91402098 70156.99292463 72370.7911749\n",
      " 74654.44565031 77010.16065841 79440.21006348 81946.93948144]\n",
      "Exponential formula: y = 1584.91 * exp(0.03 * x)\n"
     ]
    }
   ],
   "source": [
    "import numpy as np\n",
    "from scipy.optimize import curve_fit\n",
    "import pandas as pd\n",
    "\n",
    "# Linear function\n",
    "def linear_func(x, a, b):\n",
    "    return a * x + b\n",
    "\n",
    "# Fit the linear model on the logarithm of y_data\n",
    "x_data = np.arange(len(y_data))\n",
    "y_log_data = np.log(y_data)\n",
    "popt, _ = curve_fit(linear_func, x_data, y_log_data)\n",
    "\n",
    "# Calculate the fitted values\n",
    "y_log_fit = linear_func(x_data, *popt)\n",
    "y_fit = np.exp(y_log_fit)\n",
    "\n",
    "# Exponential formula\n",
    "exp_formula = f'y = {np.exp(popt[1]):.2f} * exp({popt[0]:.2f} * x)'\n",
    "\n",
    "# Print the fitted exponential curve and the exponential formula\n",
    "print(\"Fitted exponential curve:\", y_fit)\n",
    "print(\"Exponential formula:\", exp_formula)\n"
   ]
  },
  {
   "cell_type": "code",
   "execution_count": 38,
   "metadata": {},
   "outputs": [
    {
     "name": "stdout",
     "output_type": "stream",
     "text": [
      "Weekly growth rate: 3.16%\n",
      "Doubling time: 22 weeks\n"
     ]
    },
    {
     "data": {
      "application/vnd.plotly.v1+json": {
       "config": {
        "plotlyServerURL": "https://plot.ly"
       },
       "data": [
        {
         "name": "All model repositories",
         "type": "bar",
         "x": [
          "2020-04-30",
          "2020-05-07",
          "2020-05-14",
          "2020-05-21",
          "2020-05-28",
          "2020-06-04",
          "2020-06-11",
          "2020-06-18",
          "2020-06-25",
          "2020-07-02",
          "2020-07-09",
          "2020-07-16",
          "2020-07-23",
          "2020-07-30",
          "2020-08-06",
          "2020-08-13",
          "2020-08-20",
          "2020-08-27",
          "2020-09-03",
          "2020-09-10",
          "2020-09-17",
          "2020-09-24",
          "2020-10-01",
          "2020-10-08",
          "2020-10-15",
          "2020-10-22",
          "2020-10-29",
          "2020-11-05",
          "2020-11-12",
          "2020-11-19",
          "2020-11-26",
          "2020-12-03",
          "2020-12-10",
          "2020-12-17",
          "2020-12-24",
          "2020-12-31",
          "2021-01-07",
          "2021-01-14",
          "2021-01-21",
          "2021-01-28",
          "2021-02-04",
          "2021-02-11",
          "2021-02-18",
          "2021-02-25",
          "2021-03-04",
          "2021-03-11",
          "2021-03-18",
          "2021-03-25",
          "2021-04-01",
          "2021-04-08",
          "2021-04-15",
          "2021-04-22",
          "2021-04-29",
          "2021-05-06",
          "2021-05-13",
          "2021-05-20",
          "2021-05-27",
          "2021-06-03",
          "2021-06-10",
          "2021-06-17",
          "2021-06-24",
          "2021-07-01",
          "2021-07-08",
          "2021-07-15",
          "2021-07-22",
          "2021-07-29",
          "2021-08-05",
          "2021-08-12",
          "2021-08-19",
          "2021-08-26",
          "2021-09-02",
          "2021-09-09",
          "2021-09-16",
          "2021-09-23",
          "2021-09-30",
          "2021-10-07",
          "2021-10-14",
          "2021-10-21",
          "2021-10-28",
          "2021-11-04",
          "2021-11-11",
          "2021-11-18",
          "2021-11-25",
          "2021-12-02",
          "2021-12-09",
          "2021-12-16",
          "2021-12-23",
          "2021-12-30",
          "2022-01-06",
          "2022-01-13",
          "2022-01-20",
          "2022-01-27",
          "2022-02-03",
          "2022-02-10",
          "2022-02-17",
          "2022-02-24",
          "2022-03-03",
          "2022-03-10",
          "2022-03-17",
          "2022-03-24",
          "2022-03-31",
          "2022-04-07",
          "2022-04-14",
          "2022-04-21",
          "2022-04-28",
          "2022-05-05",
          "2022-05-12",
          "2022-05-19",
          "2022-05-26",
          "2022-06-02",
          "2022-06-09",
          "2022-06-16",
          "2022-06-23",
          "2022-06-30",
          "2022-07-07",
          "2022-07-14",
          "2022-07-21",
          "2022-07-28",
          "2022-08-04",
          "2022-08-11",
          "2022-08-18",
          "2022-08-25",
          "2022-09-01",
          "2022-09-08",
          "2022-09-15",
          "2022-09-22",
          "2022-09-29",
          "2022-10-06"
         ],
         "y": [
          1362,
          1510,
          1563,
          1612,
          1682,
          1730,
          1824,
          1859,
          1938,
          2018,
          2108,
          2170,
          2243,
          2314,
          2353,
          2453,
          2843,
          2916,
          2955,
          3062,
          3202,
          3281,
          3374,
          3437,
          3534,
          3644,
          3754,
          3832,
          3887,
          3983,
          4066,
          4144,
          4256,
          4426,
          4526,
          4589,
          4729,
          4847,
          4941,
          5047,
          5153,
          5267,
          5445,
          5793,
          5931,
          6086,
          6237,
          6526,
          7248,
          7651,
          7961,
          8288,
          8509,
          8773,
          8955,
          9150,
          9367,
          9600,
          9832,
          10032,
          10332,
          10577,
          11125,
          11469,
          11853,
          12267,
          12576,
          12861,
          13302,
          13679,
          14463,
          15058,
          15514,
          15994,
          16597,
          16997,
          17415,
          17914,
          18552,
          18998,
          19565,
          20131,
          20700,
          21263,
          22075,
          22866,
          23441,
          23934,
          24469,
          25037,
          25596,
          26379,
          27235,
          28273,
          29112,
          29833,
          30848,
          31539,
          32369,
          33127,
          33954,
          34930,
          36616,
          38206,
          39391,
          40632,
          42648,
          44320,
          46282,
          47565,
          49299,
          51525,
          53103,
          54301,
          55500,
          57559,
          58685,
          60114,
          61544,
          62700,
          64678,
          65856,
          67077,
          68432,
          69986,
          71951,
          74408,
          74797
         ]
        },
        {
         "line": {
          "color": "red",
          "dash": "dash"
         },
         "mode": "lines",
         "name": "Exponential Fit",
         "type": "scatter",
         "x": [
          "2020-04-30",
          "2020-05-07",
          "2020-05-14",
          "2020-05-21",
          "2020-05-28",
          "2020-06-04",
          "2020-06-11",
          "2020-06-18",
          "2020-06-25",
          "2020-07-02",
          "2020-07-09",
          "2020-07-16",
          "2020-07-23",
          "2020-07-30",
          "2020-08-06",
          "2020-08-13",
          "2020-08-20",
          "2020-08-27",
          "2020-09-03",
          "2020-09-10",
          "2020-09-17",
          "2020-09-24",
          "2020-10-01",
          "2020-10-08",
          "2020-10-15",
          "2020-10-22",
          "2020-10-29",
          "2020-11-05",
          "2020-11-12",
          "2020-11-19",
          "2020-11-26",
          "2020-12-03",
          "2020-12-10",
          "2020-12-17",
          "2020-12-24",
          "2020-12-31",
          "2021-01-07",
          "2021-01-14",
          "2021-01-21",
          "2021-01-28",
          "2021-02-04",
          "2021-02-11",
          "2021-02-18",
          "2021-02-25",
          "2021-03-04",
          "2021-03-11",
          "2021-03-18",
          "2021-03-25",
          "2021-04-01",
          "2021-04-08",
          "2021-04-15",
          "2021-04-22",
          "2021-04-29",
          "2021-05-06",
          "2021-05-13",
          "2021-05-20",
          "2021-05-27",
          "2021-06-03",
          "2021-06-10",
          "2021-06-17",
          "2021-06-24",
          "2021-07-01",
          "2021-07-08",
          "2021-07-15",
          "2021-07-22",
          "2021-07-29",
          "2021-08-05",
          "2021-08-12",
          "2021-08-19",
          "2021-08-26",
          "2021-09-02",
          "2021-09-09",
          "2021-09-16",
          "2021-09-23",
          "2021-09-30",
          "2021-10-07",
          "2021-10-14",
          "2021-10-21",
          "2021-10-28",
          "2021-11-04",
          "2021-11-11",
          "2021-11-18",
          "2021-11-25",
          "2021-12-02",
          "2021-12-09",
          "2021-12-16",
          "2021-12-23",
          "2021-12-30",
          "2022-01-06",
          "2022-01-13",
          "2022-01-20",
          "2022-01-27",
          "2022-02-03",
          "2022-02-10",
          "2022-02-17",
          "2022-02-24",
          "2022-03-03",
          "2022-03-10",
          "2022-03-17",
          "2022-03-24",
          "2022-03-31",
          "2022-04-07",
          "2022-04-14",
          "2022-04-21",
          "2022-04-28",
          "2022-05-05",
          "2022-05-12",
          "2022-05-19",
          "2022-05-26",
          "2022-06-02",
          "2022-06-09",
          "2022-06-16",
          "2022-06-23",
          "2022-06-30",
          "2022-07-07",
          "2022-07-14",
          "2022-07-21",
          "2022-07-28",
          "2022-08-04",
          "2022-08-11",
          "2022-08-18",
          "2022-08-25",
          "2022-09-01",
          "2022-09-08",
          "2022-09-15",
          "2022-09-22",
          "2022-09-29",
          "2022-10-06"
         ],
         "y": [
          1584.9067677156736,
          1634.9183728735543,
          1686.5080901964018,
          1739.7257168862293,
          1794.6226214917476,
          1851.2517934920702,
          1909.6678944450528,
          1969.927310749598,
          2032.0882080728713,
          2096.2105874949757,
          2162.3563434252565,
          2230.5893233461443,
          2300.975389442232,
          2373.5824821740316,
          2448.4806858577995,
          2525.7422963147424,
          2605.4418906548635,
          2687.6563992628608,
          2772.465180055513,
          2859.9500950822517,
          2950.1955895428828,
          3043.2887732986633,
          3139.319504955513,
          3238.380478600392,
          3340.567313274702,
          3445.978645270972,
          3554.7162233420013,
          3666.885006914254,
          3782.593267400427,
          3901.952692708926,
          4025.0784950510747,
          4152.089522150227,
          4283.108371960078,
          4418.261511002838,
          4557.679396441617,
          4701.496602004805,
          4849.851947883908,
          5002.88863473037,
          5160.7543818806635,
          5323.601569942975,
          5491.587387883288,
          5664.873984752749,
          5843.628626202698,
          6028.023855938607,
          6218.237662268683,
          6414.453649907802,
          6616.861217202811,
          6825.655738950098,
          7041.038754982018,
          7263.218164704041,
          7492.408427770594,
          7728.830771093235,
          7972.713402380823,
          8224.29173041807,
          8483.808592294874,
          8751.514487805956,
          9027.6678212468,
          9312.53515083958,
          9606.391446029707,
          9909.520352901207,
          10222.214467967395,
          10544.775620601004,
          10877.515164376216,
          11220.754277604117,
          11574.824273351544,
          11940.066919242356,
          12316.834767350208,
          12705.491494501051,
          13106.412253313665,
          13519.984034317446,
          13946.606039496777,
          14386.690067622383,
          14840.660911741961,
          15308.956769213624,
          15792.029664677688,
          16290.345886375508,
          16804.386436236353,
          17334.647494166475,
          17881.64089698902,
          18445.89463249688,
          19027.953349095045,
          19628.378881525012,
          20247.750793178206,
          20886.666935522062,
          21545.74402517893,
          22225.618239214313,
          22926.945829209657,
          23650.403754712243,
          24396.6903366731,
          25166.525931504522,
          25960.653626407395,
          26779.83995663912,
          27624.875645415297,
          28496.57636715892,
          29395.783534833437,
          30323.36511212046,
          31280.216451225682,
          32267.261157121233,
          33285.45197905962,
          34335.77173021927,
          35419.234236369004,
          36536.885314467945,
          37689.80378214515,
          38879.102499032735,
          40105.92944095867,
          41371.468808035774,
          42676.942167715635,
          44023.609633912194,
          45412.771083332496,
          46845.76741018795,
          48323.9818204986,
          49848.84116723906,
          51421.817327614175,
          53044.42862379531,
          54718.241288487414,
          56444.87097674194,
          58225.98432547542,
          60063.3005621975,
          61958.59316450313,
          63913.69157193001,
          65930.48295183246,
          68010.9140209784,
          70156.99292462658,
          72370.79117489704,
          74654.44565030753,
          77010.16065840544,
          79440.2100634845,
          81946.93948144274
         ]
        }
       ],
       "layout": {
        "annotations": [
         {
          "bgcolor": "#ffffff",
          "font": {
           "color": "#000000",
           "size": 16
          },
          "opacity": 0.8,
          "showarrow": false,
          "text": "Weekly growth rate: 3.16%",
          "x": 0.99,
          "xref": "paper",
          "y": 0.01,
          "yref": "paper"
         }
        ],
        "autosize": false,
        "font": {
         "color": "black",
         "size": 14
        },
        "height": 400,
        "legend": {
         "itemsizing": "constant",
         "title": {
          "text": ""
         },
         "x": 0.01,
         "xanchor": "left",
         "y": 0.99,
         "yanchor": "top"
        },
        "template": {
         "data": {
          "bar": [
           {
            "error_x": {
             "color": "#2a3f5f"
            },
            "error_y": {
             "color": "#2a3f5f"
            },
            "marker": {
             "line": {
              "color": "#E5ECF6",
              "width": 0.5
             },
             "pattern": {
              "fillmode": "overlay",
              "size": 10,
              "solidity": 0.2
             }
            },
            "type": "bar"
           }
          ],
          "barpolar": [
           {
            "marker": {
             "line": {
              "color": "#E5ECF6",
              "width": 0.5
             },
             "pattern": {
              "fillmode": "overlay",
              "size": 10,
              "solidity": 0.2
             }
            },
            "type": "barpolar"
           }
          ],
          "carpet": [
           {
            "aaxis": {
             "endlinecolor": "#2a3f5f",
             "gridcolor": "white",
             "linecolor": "white",
             "minorgridcolor": "white",
             "startlinecolor": "#2a3f5f"
            },
            "baxis": {
             "endlinecolor": "#2a3f5f",
             "gridcolor": "white",
             "linecolor": "white",
             "minorgridcolor": "white",
             "startlinecolor": "#2a3f5f"
            },
            "type": "carpet"
           }
          ],
          "choropleth": [
           {
            "colorbar": {
             "outlinewidth": 0,
             "ticks": ""
            },
            "type": "choropleth"
           }
          ],
          "contour": [
           {
            "colorbar": {
             "outlinewidth": 0,
             "ticks": ""
            },
            "colorscale": [
             [
              0,
              "#0d0887"
             ],
             [
              0.1111111111111111,
              "#46039f"
             ],
             [
              0.2222222222222222,
              "#7201a8"
             ],
             [
              0.3333333333333333,
              "#9c179e"
             ],
             [
              0.4444444444444444,
              "#bd3786"
             ],
             [
              0.5555555555555556,
              "#d8576b"
             ],
             [
              0.6666666666666666,
              "#ed7953"
             ],
             [
              0.7777777777777778,
              "#fb9f3a"
             ],
             [
              0.8888888888888888,
              "#fdca26"
             ],
             [
              1,
              "#f0f921"
             ]
            ],
            "type": "contour"
           }
          ],
          "contourcarpet": [
           {
            "colorbar": {
             "outlinewidth": 0,
             "ticks": ""
            },
            "type": "contourcarpet"
           }
          ],
          "heatmap": [
           {
            "colorbar": {
             "outlinewidth": 0,
             "ticks": ""
            },
            "colorscale": [
             [
              0,
              "#0d0887"
             ],
             [
              0.1111111111111111,
              "#46039f"
             ],
             [
              0.2222222222222222,
              "#7201a8"
             ],
             [
              0.3333333333333333,
              "#9c179e"
             ],
             [
              0.4444444444444444,
              "#bd3786"
             ],
             [
              0.5555555555555556,
              "#d8576b"
             ],
             [
              0.6666666666666666,
              "#ed7953"
             ],
             [
              0.7777777777777778,
              "#fb9f3a"
             ],
             [
              0.8888888888888888,
              "#fdca26"
             ],
             [
              1,
              "#f0f921"
             ]
            ],
            "type": "heatmap"
           }
          ],
          "heatmapgl": [
           {
            "colorbar": {
             "outlinewidth": 0,
             "ticks": ""
            },
            "colorscale": [
             [
              0,
              "#0d0887"
             ],
             [
              0.1111111111111111,
              "#46039f"
             ],
             [
              0.2222222222222222,
              "#7201a8"
             ],
             [
              0.3333333333333333,
              "#9c179e"
             ],
             [
              0.4444444444444444,
              "#bd3786"
             ],
             [
              0.5555555555555556,
              "#d8576b"
             ],
             [
              0.6666666666666666,
              "#ed7953"
             ],
             [
              0.7777777777777778,
              "#fb9f3a"
             ],
             [
              0.8888888888888888,
              "#fdca26"
             ],
             [
              1,
              "#f0f921"
             ]
            ],
            "type": "heatmapgl"
           }
          ],
          "histogram": [
           {
            "marker": {
             "pattern": {
              "fillmode": "overlay",
              "size": 10,
              "solidity": 0.2
             }
            },
            "type": "histogram"
           }
          ],
          "histogram2d": [
           {
            "colorbar": {
             "outlinewidth": 0,
             "ticks": ""
            },
            "colorscale": [
             [
              0,
              "#0d0887"
             ],
             [
              0.1111111111111111,
              "#46039f"
             ],
             [
              0.2222222222222222,
              "#7201a8"
             ],
             [
              0.3333333333333333,
              "#9c179e"
             ],
             [
              0.4444444444444444,
              "#bd3786"
             ],
             [
              0.5555555555555556,
              "#d8576b"
             ],
             [
              0.6666666666666666,
              "#ed7953"
             ],
             [
              0.7777777777777778,
              "#fb9f3a"
             ],
             [
              0.8888888888888888,
              "#fdca26"
             ],
             [
              1,
              "#f0f921"
             ]
            ],
            "type": "histogram2d"
           }
          ],
          "histogram2dcontour": [
           {
            "colorbar": {
             "outlinewidth": 0,
             "ticks": ""
            },
            "colorscale": [
             [
              0,
              "#0d0887"
             ],
             [
              0.1111111111111111,
              "#46039f"
             ],
             [
              0.2222222222222222,
              "#7201a8"
             ],
             [
              0.3333333333333333,
              "#9c179e"
             ],
             [
              0.4444444444444444,
              "#bd3786"
             ],
             [
              0.5555555555555556,
              "#d8576b"
             ],
             [
              0.6666666666666666,
              "#ed7953"
             ],
             [
              0.7777777777777778,
              "#fb9f3a"
             ],
             [
              0.8888888888888888,
              "#fdca26"
             ],
             [
              1,
              "#f0f921"
             ]
            ],
            "type": "histogram2dcontour"
           }
          ],
          "mesh3d": [
           {
            "colorbar": {
             "outlinewidth": 0,
             "ticks": ""
            },
            "type": "mesh3d"
           }
          ],
          "parcoords": [
           {
            "line": {
             "colorbar": {
              "outlinewidth": 0,
              "ticks": ""
             }
            },
            "type": "parcoords"
           }
          ],
          "pie": [
           {
            "automargin": true,
            "type": "pie"
           }
          ],
          "scatter": [
           {
            "fillpattern": {
             "fillmode": "overlay",
             "size": 10,
             "solidity": 0.2
            },
            "type": "scatter"
           }
          ],
          "scatter3d": [
           {
            "line": {
             "colorbar": {
              "outlinewidth": 0,
              "ticks": ""
             }
            },
            "marker": {
             "colorbar": {
              "outlinewidth": 0,
              "ticks": ""
             }
            },
            "type": "scatter3d"
           }
          ],
          "scattercarpet": [
           {
            "marker": {
             "colorbar": {
              "outlinewidth": 0,
              "ticks": ""
             }
            },
            "type": "scattercarpet"
           }
          ],
          "scattergeo": [
           {
            "marker": {
             "colorbar": {
              "outlinewidth": 0,
              "ticks": ""
             }
            },
            "type": "scattergeo"
           }
          ],
          "scattergl": [
           {
            "marker": {
             "colorbar": {
              "outlinewidth": 0,
              "ticks": ""
             }
            },
            "type": "scattergl"
           }
          ],
          "scattermapbox": [
           {
            "marker": {
             "colorbar": {
              "outlinewidth": 0,
              "ticks": ""
             }
            },
            "type": "scattermapbox"
           }
          ],
          "scatterpolar": [
           {
            "marker": {
             "colorbar": {
              "outlinewidth": 0,
              "ticks": ""
             }
            },
            "type": "scatterpolar"
           }
          ],
          "scatterpolargl": [
           {
            "marker": {
             "colorbar": {
              "outlinewidth": 0,
              "ticks": ""
             }
            },
            "type": "scatterpolargl"
           }
          ],
          "scatterternary": [
           {
            "marker": {
             "colorbar": {
              "outlinewidth": 0,
              "ticks": ""
             }
            },
            "type": "scatterternary"
           }
          ],
          "surface": [
           {
            "colorbar": {
             "outlinewidth": 0,
             "ticks": ""
            },
            "colorscale": [
             [
              0,
              "#0d0887"
             ],
             [
              0.1111111111111111,
              "#46039f"
             ],
             [
              0.2222222222222222,
              "#7201a8"
             ],
             [
              0.3333333333333333,
              "#9c179e"
             ],
             [
              0.4444444444444444,
              "#bd3786"
             ],
             [
              0.5555555555555556,
              "#d8576b"
             ],
             [
              0.6666666666666666,
              "#ed7953"
             ],
             [
              0.7777777777777778,
              "#fb9f3a"
             ],
             [
              0.8888888888888888,
              "#fdca26"
             ],
             [
              1,
              "#f0f921"
             ]
            ],
            "type": "surface"
           }
          ],
          "table": [
           {
            "cells": {
             "fill": {
              "color": "#EBF0F8"
             },
             "line": {
              "color": "white"
             }
            },
            "header": {
             "fill": {
              "color": "#C8D4E3"
             },
             "line": {
              "color": "white"
             }
            },
            "type": "table"
           }
          ]
         },
         "layout": {
          "annotationdefaults": {
           "arrowcolor": "#2a3f5f",
           "arrowhead": 0,
           "arrowwidth": 1
          },
          "autotypenumbers": "strict",
          "coloraxis": {
           "colorbar": {
            "outlinewidth": 0,
            "ticks": ""
           }
          },
          "colorscale": {
           "diverging": [
            [
             0,
             "#8e0152"
            ],
            [
             0.1,
             "#c51b7d"
            ],
            [
             0.2,
             "#de77ae"
            ],
            [
             0.3,
             "#f1b6da"
            ],
            [
             0.4,
             "#fde0ef"
            ],
            [
             0.5,
             "#f7f7f7"
            ],
            [
             0.6,
             "#e6f5d0"
            ],
            [
             0.7,
             "#b8e186"
            ],
            [
             0.8,
             "#7fbc41"
            ],
            [
             0.9,
             "#4d9221"
            ],
            [
             1,
             "#276419"
            ]
           ],
           "sequential": [
            [
             0,
             "#0d0887"
            ],
            [
             0.1111111111111111,
             "#46039f"
            ],
            [
             0.2222222222222222,
             "#7201a8"
            ],
            [
             0.3333333333333333,
             "#9c179e"
            ],
            [
             0.4444444444444444,
             "#bd3786"
            ],
            [
             0.5555555555555556,
             "#d8576b"
            ],
            [
             0.6666666666666666,
             "#ed7953"
            ],
            [
             0.7777777777777778,
             "#fb9f3a"
            ],
            [
             0.8888888888888888,
             "#fdca26"
            ],
            [
             1,
             "#f0f921"
            ]
           ],
           "sequentialminus": [
            [
             0,
             "#0d0887"
            ],
            [
             0.1111111111111111,
             "#46039f"
            ],
            [
             0.2222222222222222,
             "#7201a8"
            ],
            [
             0.3333333333333333,
             "#9c179e"
            ],
            [
             0.4444444444444444,
             "#bd3786"
            ],
            [
             0.5555555555555556,
             "#d8576b"
            ],
            [
             0.6666666666666666,
             "#ed7953"
            ],
            [
             0.7777777777777778,
             "#fb9f3a"
            ],
            [
             0.8888888888888888,
             "#fdca26"
            ],
            [
             1,
             "#f0f921"
            ]
           ]
          },
          "colorway": [
           "#636efa",
           "#EF553B",
           "#00cc96",
           "#ab63fa",
           "#FFA15A",
           "#19d3f3",
           "#FF6692",
           "#B6E880",
           "#FF97FF",
           "#FECB52"
          ],
          "font": {
           "color": "#2a3f5f"
          },
          "geo": {
           "bgcolor": "white",
           "lakecolor": "white",
           "landcolor": "#E5ECF6",
           "showlakes": true,
           "showland": true,
           "subunitcolor": "white"
          },
          "hoverlabel": {
           "align": "left"
          },
          "hovermode": "closest",
          "mapbox": {
           "style": "light"
          },
          "paper_bgcolor": "white",
          "plot_bgcolor": "#E5ECF6",
          "polar": {
           "angularaxis": {
            "gridcolor": "white",
            "linecolor": "white",
            "ticks": ""
           },
           "bgcolor": "#E5ECF6",
           "radialaxis": {
            "gridcolor": "white",
            "linecolor": "white",
            "ticks": ""
           }
          },
          "scene": {
           "xaxis": {
            "backgroundcolor": "#E5ECF6",
            "gridcolor": "white",
            "gridwidth": 2,
            "linecolor": "white",
            "showbackground": true,
            "ticks": "",
            "zerolinecolor": "white"
           },
           "yaxis": {
            "backgroundcolor": "#E5ECF6",
            "gridcolor": "white",
            "gridwidth": 2,
            "linecolor": "white",
            "showbackground": true,
            "ticks": "",
            "zerolinecolor": "white"
           },
           "zaxis": {
            "backgroundcolor": "#E5ECF6",
            "gridcolor": "white",
            "gridwidth": 2,
            "linecolor": "white",
            "showbackground": true,
            "ticks": "",
            "zerolinecolor": "white"
           }
          },
          "shapedefaults": {
           "line": {
            "color": "#2a3f5f"
           }
          },
          "ternary": {
           "aaxis": {
            "gridcolor": "white",
            "linecolor": "white",
            "ticks": ""
           },
           "baxis": {
            "gridcolor": "white",
            "linecolor": "white",
            "ticks": ""
           },
           "bgcolor": "#E5ECF6",
           "caxis": {
            "gridcolor": "white",
            "linecolor": "white",
            "ticks": ""
           }
          },
          "title": {
           "x": 0.05
          },
          "xaxis": {
           "automargin": true,
           "gridcolor": "white",
           "linecolor": "white",
           "ticks": "",
           "title": {
            "standoff": 15
           },
           "zerolinecolor": "white",
           "zerolinewidth": 2
          },
          "yaxis": {
           "automargin": true,
           "gridcolor": "white",
           "linecolor": "white",
           "ticks": "",
           "title": {
            "standoff": 15
           },
           "zerolinecolor": "white",
           "zerolinewidth": 2
          }
         }
        },
        "width": 600,
        "xaxis": {
         "title": {
          "text": ""
         }
        },
        "yaxis": {
         "title": {
          "text": "Total Number of Models"
         }
        }
       }
      }
     },
     "metadata": {},
     "output_type": "display_data"
    }
   ],
   "source": [
    "import plotly.graph_objs as go\n",
    "import numpy as np\n",
    "from scipy.optimize import curve_fit\n",
    "import pandas as pd\n",
    "\n",
    "# Filter the data to include only 'All model repositories'\n",
    "all_models_data = model_number[model_number['model_type'] == 'all models']\n",
    "\n",
    "# Filter the data to start from 2020-04-30\n",
    "all_models_data = all_models_data[all_models_data['model_time'] >= '2020-04-30']\n",
    "\n",
    "# Linear function\n",
    "def linear_func(x, a, b):\n",
    "    return a * x + b\n",
    "\n",
    "# Fit the linear model on the logarithm of y_data\n",
    "x_data = np.arange(len(all_models_data))\n",
    "y_data = all_models_data['model_number']\n",
    "y_log_data = np.log(y_data)\n",
    "popt, _ = curve_fit(linear_func, x_data, y_log_data)\n",
    "\n",
    "# Calculate the fitted values\n",
    "y_log_fit = linear_func(x_data, *popt)\n",
    "y_fit = np.exp(y_log_fit)\n",
    "\n",
    "# Exponential formula\n",
    "exp_formula = f'y = {np.exp(popt[1]):.2f} * exp({popt[0]:.2f} * x)'\n",
    "\n",
    "# Create the bar plot\n",
    "fig = go.Figure()\n",
    "\n",
    "fig.add_trace(go.Bar(\n",
    "    x=all_models_data['model_time'],\n",
    "    y=all_models_data['model_number'],\n",
    "    name=\"All model repositories\",\n",
    "))\n",
    "\n",
    "# Add the exponential fit curve\n",
    "fig.add_trace(go.Scatter(\n",
    "    x=all_models_data['model_time'],\n",
    "    y=y_fit,\n",
    "    mode='lines',\n",
    "    name='Exponential Fit',\n",
    "    line=dict(color='red', dash='dash'),\n",
    "))\n",
    "\n",
    "\n",
    "# Calculate the weekly growth rate and doubling time\n",
    "growth_rate = (np.exp(popt[0]) - 1) * 100\n",
    "doubling_time = np.log(2) / popt[0]\n",
    "\n",
    "# Print the growth rate and doubling time\n",
    "print(f\"Weekly growth rate: {growth_rate:.2f}%\")\n",
    "print(f\"Doubling time: {doubling_time:.0f} weeks\")\n",
    "\n",
    "# Add the exponential formula annotation\n",
    "fig.add_annotation(\n",
    "    x=0.99,\n",
    "    y=0.01,\n",
    "    xref=\"paper\",\n",
    "    yref=\"paper\",\n",
    "    text=f\"Weekly growth rate: {growth_rate:.2f}%\",\n",
    "    showarrow=False,\n",
    "    font=dict(size=16, color=\"#000000\"),\n",
    "    bgcolor=\"#ffffff\",\n",
    "    opacity=0.8,\n",
    ")\n",
    "\n",
    "\n",
    "# Customize the layout\n",
    "fig.update_layout(\n",
    "    autosize=False,\n",
    "    width=600,\n",
    "    height=400,\n",
    "    font_size=14,\n",
    "    font_color=\"black\",\n",
    "    xaxis_title='',\n",
    "    yaxis_title='Total Number of Models',\n",
    "    legend_title_text='',\n",
    "    legend=dict(yanchor=\"top\", y=0.99, xanchor=\"left\", x=0.01, itemsizing='constant'),\n",
    ")\n",
    "\n",
    "fig.show()\n",
    "\n",
    "\n",
    "import plotly.io as pio\n",
    "\n",
    "# Save the figure with a high resolution (dpi=300)\n",
    "# pio.write_image(fig, 'Fig1_exp.jpeg', width=600, height=400, scale=10)\n"
   ]
  }
 ],
 "metadata": {
  "kernelspec": {
   "display_name": "hf",
   "language": "python",
   "name": "python3"
  },
  "language_info": {
   "codemirror_mode": {
    "name": "ipython",
    "version": 3
   },
   "file_extension": ".py",
   "mimetype": "text/x-python",
   "name": "python",
   "nbconvert_exporter": "python",
   "pygments_lexer": "ipython3",
   "version": "3.8.13"
  },
  "orig_nbformat": 4,
  "vscode": {
   "interpreter": {
    "hash": "8b64a3b3acf16a8700ed19f68c3cf1e5552eeb3b07003f75928b005ec5d59154"
   }
  }
 },
 "nbformat": 4,
 "nbformat_minor": 2
}
